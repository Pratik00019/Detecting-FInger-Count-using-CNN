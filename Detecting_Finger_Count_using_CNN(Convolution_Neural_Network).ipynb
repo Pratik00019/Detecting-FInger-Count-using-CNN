{
  "nbformat": 4,
  "nbformat_minor": 0,
  "metadata": {
    "colab": {
      "name": "Detecting Finger Count using CNN(Convolution Neural Network).ipynb",
      "provenance": [],
      "collapsed_sections": [],
      "authorship_tag": "ABX9TyOUKULbbOnLgdz3/tTSz9/F",
      "include_colab_link": true
    },
    "kernelspec": {
      "name": "python3",
      "display_name": "Python 3"
    },
    "language_info": {
      "name": "python"
    }
  },
  "cells": [
    {
      "cell_type": "markdown",
      "metadata": {
        "id": "view-in-github",
        "colab_type": "text"
      },
      "source": [
        "<a href=\"https://colab.research.google.com/github/Pratik00019/Detecting-Finger-Count-using-CNN/blob/main/Detecting_Finger_Count_using_CNN(Convolution_Neural_Network).ipynb\" target=\"_parent\"><img src=\"https://colab.research.google.com/assets/colab-badge.svg\" alt=\"Open In Colab\"/></a>"
      ]
    },
    {
      "cell_type": "code",
      "metadata": {
        "id": "FOLAbsZJXg4Z"
      },
      "source": [
        "import math\n",
        "import numpy as np\n",
        "import h5py\n",
        "import matplotlib.pyplot as plt\n",
        "import tensorflow.compat.v1 as tf\n",
        "tf.disable_v2_behavior()\n",
        "from tensorflow.python.framework import ops\n",
        "\n",
        "\n",
        "%matplotlib inline\n"
      ],
      "execution_count": null,
      "outputs": []
    },
    {
      "cell_type": "code",
      "metadata": {
        "id": "h-aKO6A0X6HW"
      },
      "source": [
        "def load_dataset():\n",
        "    with h5py.File('/content/train_signs.h5', \"r\") as train_dataset:\n",
        "        train_set_x_orig = np.array(train_dataset[\"train_set_x\"][:])\n",
        "        train_set_y_orig = np.array(train_dataset[\"train_set_y\"][:])\n",
        "\n",
        "    with h5py.File('/content/test_signs.h5', \"r\") as test_dataset:\n",
        "        test_set_x_orig = np.array(test_dataset[\"test_set_x\"][:])\n",
        "        test_set_y_orig = np.array(test_dataset[\"test_set_y\"][:])\n",
        "        classes = np.array(test_dataset[\"list_classes\"][:])\n",
        "\n",
        "\n",
        "    train_set_y_orig = train_set_y_orig.reshape((1, train_set_y_orig.shape[0]))\n",
        "    test_set_y_orig = test_set_y_orig.reshape((1, test_set_y_orig.shape[0]))\n",
        "\n",
        "    return train_set_x_orig, train_set_y_orig, test_set_x_orig, test_set_y_orig, classes"
      ],
      "execution_count": null,
      "outputs": []
    },
    {
      "cell_type": "code",
      "metadata": {
        "id": "NbMnhW7RFvDs"
      },
      "source": [
        "X_train_orig, Y_train_orig, X_test_orig, Y_test_orig, classes = load_dataset()\n"
      ],
      "execution_count": null,
      "outputs": []
    },
    {
      "cell_type": "code",
      "metadata": {
        "colab": {
          "base_uri": "https://localhost:8080/",
          "height": 284
        },
        "id": "hZLkIf1eFvlN",
        "outputId": "f291141b-17c3-499f-9217-e7c301813cfa"
      },
      "source": [
        "index = 50\n",
        "plt.imshow(X_train_orig[index])"
      ],
      "execution_count": null,
      "outputs": [
        {
          "output_type": "execute_result",
          "data": {
            "text/plain": [
              "<matplotlib.image.AxesImage at 0x7ff85876ebd0>"
            ]
          },
          "metadata": {},
          "execution_count": 115
        },
        {
          "output_type": "display_data",
          "data": {
            "image/png": "[encoded data removed]",
            "text/plain": [
              "<Figure size 432x288 with 1 Axes>"
            ]
          },
          "metadata": {
            "needs_background": "light"
          }
        }
      ]
    },
    {
      "cell_type": "code",
      "metadata": {
        "id": "kjHnBt4bJiRU"
      },
      "source": [
        "def one_hot_matrix(labels, C):\n",
        "\n",
        "    C = tf.constant(C, name='C')\n",
        "    one_hot_matrix = tf.one_hot(indices=labels, depth=C, axis=0)\n",
        "    sess = tf.Session()\n",
        "    one_hot = sess.run(one_hot_matrix)\n",
        "    sess.close()\n",
        "    return one_hot"
      ],
      "execution_count": null,
      "outputs": []
    },
    {
      "cell_type": "code",
      "metadata": {
        "colab": {
          "base_uri": "https://localhost:8080/"
        },
        "id": "aumsrcd5Fyp8",
        "outputId": "b856a1e8-ae80-4bb6-ea55-b25fb08ea9ed"
      },
      "source": [
        "X_train = X_train_orig/255.\n",
        "X_test = X_test_orig/255.\n",
        "Y_train = one_hot_matrix(Y_train_orig, 6).T\n",
        "Y_test = one_hot_matrix(Y_test_orig, 6).T\n",
        "print (\"number of training examples = \" + str(X_train.shape[0]))\n",
        "print (\"number of test examples = \" + str(X_test.shape[0]))\n",
        "print (\"X_train shape: \" + str(X_train.shape))\n",
        "print (\"Y_train shape: \" + str(Y_train.shape))\n",
        "print (\"X_test shape: \" + str(X_test.shape))\n",
        "print (\"Y_test shape: \" + str(Y_test.shape))\n",
        "conv_layers = {}"
      ],
      "execution_count": null,
      "outputs": [
        {
          "output_type": "stream",
          "name": "stdout",
          "text": [
            "number of training examples = 1080\n",
            "number of test examples = 120\n",
            "X_train shape: (1080, 64, 64, 3)\n",
            "Y_train shape: (1080, 1, 6)\n",
            "X_test shape: (120, 64, 64, 3)\n",
            "Y_test shape: (120, 1, 6)\n"
          ]
        }
      ]
    },
    {
      "cell_type": "markdown",
      "metadata": {
        "id": "POKmt0b5PZWi"
      },
      "source": [
        "**CREATING PLACEHOLDERS**"
      ]
    },
    {
      "cell_type": "markdown",
      "metadata": {
        "id": "Y7FgMnaYPdmt"
      },
      "source": [
        "We need to create placeholders becuase as we know that Tensorflow works on computational graph and also TensorFlow requires that we create placeholders for the input data that will be fed into the model when running the session."
      ]
    },
    {
      "cell_type": "code",
      "metadata": {
        "id": "06NMlchJHXvO"
      },
      "source": [
        "def create_placeholders(n_h,n_w,n_c,n_y):\n",
        "  \"\"\"\n",
        "  n_h = height of image\n",
        "  n_w = width of image\n",
        "  n_c = channels of image\n",
        "  n_y = classes\n",
        "\n",
        "  \"\"\"\n",
        "  X=tf.placeholder(tf.float32,shape=[None,n_h,n_w,n_c])\n",
        "  Y=tf.placeholder(tf.float32,shape=[None,n_y])\n",
        "\n",
        "  return X,Y\n"
      ],
      "execution_count": null,
      "outputs": []
    },
    {
      "cell_type": "code",
      "metadata": {
        "colab": {
          "base_uri": "https://localhost:8080/"
        },
        "id": "3YcofuyENJoH",
        "outputId": "b6c1d026-1521-4c2a-de23-3f93cad73c3e"
      },
      "source": [
        "X, Y = create_placeholders(64, 64, 3, 6)\n",
        "print (\"X = \" + str(X))\n",
        "print (\"Y = \" + str(Y))"
      ],
      "execution_count": null,
      "outputs": [
        {
          "output_type": "stream",
          "name": "stdout",
          "text": [
            "X = Tensor(\"Placeholder_2:0\", shape=(?, 64, 64, 3), dtype=float32)\n",
            "Y = Tensor(\"Placeholder_3:0\", shape=(?, 6), dtype=float32)\n"
          ]
        }
      ]
    },
    {
      "cell_type": "code",
      "metadata": {
        "id": "uIwgPonLXyzz"
      },
      "source": [
        "def initialize_parameters():\n",
        "      W1 = tf.get_variable('W1',[4, 4, 3, 8], initializer = tf.truncated_normal_initializer(stddev=0.1))\n",
        "      W2= tf.get_variable('W2',[2, 2, 8, 16],initializer = tf.truncated_normal_initializer(stddev=0.1))\n",
        "      \n",
        "      parameters={\"W1\":W1,\"W2\":W2}\n",
        "\n",
        "      return parameters\n"
      ],
      "execution_count": null,
      "outputs": []
    },
    {
      "cell_type": "markdown",
      "metadata": {
        "id": "FPCEc0IypV7q"
      },
      "source": [
        "We dont have to add bias as tensorflow does it on it's own and also when we apply fully connected layer we don't initialize weights and bias as tensorflow innitalizes on its own "
      ]
    },
    {
      "cell_type": "code",
      "metadata": {
        "id": "abzpRi3NQXKz"
      },
      "source": [
        "def forward_propogation(X,parameters):\n",
        "  W1=parameters[\"W1\"]\n",
        "  W2=parameters[\"W2\"]\n",
        "  \n",
        "  Z1=tf.nn.conv2d(X,W1, strides = [1,1,1,1], padding = 'SAME')\n",
        "  A1=tf.relu(Z1)\n",
        "  P1=tf.nn.max_pool(A1,ksize = [1,8,8,1],strides = [1,8,8,1],padding ='SAME')\n",
        "\n",
        "  Z2=tf.nn.conv2d(P1,W2,strides = [1,1,1,1] ,padding='SAME')\n",
        "  A2=tf.relu(Z2)\n",
        "  P2 = tf.nn.max_pool(A2, ksize = [1,4,4,1], strides = [1,4,4,1], padding = 'SAME')\n",
        "\n",
        "  P2 = tf.contrib.layers.flatten(P2)\n",
        "  \n",
        "  Z3 = tf.contrib.layers.fully_connected(P2, 6, activation_fn=None)\n",
        "  return Z3\n",
        "\n"
      ],
      "execution_count": null,
      "outputs": []
    },
    {
      "cell_type": "code",
      "metadata": {
        "id": "hhZblF2dxnnC"
      },
      "source": [
        "def compute_cost(Z3, Y):\n",
        "\n",
        "    cost = tf.nn.softmax_cross_entropy_with_logits(logits = Z3, labels = Y)\n",
        "    cost = tf.reduce_mean(cost)\n",
        "    \n",
        "    return cost"
      ],
      "execution_count": null,
      "outputs": []
    },
    {
      "cell_type": "code",
      "metadata": {
        "id": "LpbMAlQP19Ny"
      },
      "source": [
        "def model(X_train, Y_train, X_test, Y_test, learning_rate = 0.009,\n",
        "          num_epochs = 100, minibatch_size = 64, print_cost = True):\n",
        "    \"\"\"\n",
        "    CONV2D -> RELU -> MAXPOOL -> CONV2D -> RELU -> MAXPOOL -> FLATTEN -> FULLYCONNECTED\n",
        "    \n",
        "    Arguments:\n",
        "    X_train -- training set, of shape (None, 64, 64, 3)\n",
        "    Y_train -- test set, of shape (None, n_y = 6)\n",
        "    X_test -- training set, of shape (None, 64, 64, 3)\n",
        "    Y_test -- test set, of shape (None, n_y = 6)\n",
        "    learning_rate -- learning rate of the optimization\n",
        "    num_epochs -- number of epochs of the optimization loop\n",
        "    minibatch_size -- size of a minibatch\n",
        "    print_cost -- True to print the cost every 100 epochs\n",
        "    \"\"\"\n",
        "    \n",
        "    ops.reset_default_graph()                         # to be able to rerun the model without overwriting tf variables\n",
        "    (m, n_H0, n_W0, n_C0) = X_train.shape             \n",
        "    n_y = Y_train.shape[1]                            \n",
        "    costs = []                                         \n",
        "    \n",
        "    X, Y = create_placeholders(n_H0, n_W0, n_C0, n_y)\n",
        "\n",
        "    parameters = initialize_parameters()\n",
        "    \n",
        "    Z3 = forward_propagation(X, parameters)\n",
        "  \n",
        "    cost = compute_cost(Z3, Y)\n",
        "\n",
        "    optimizer = tf.train.AdamOptimizer(learning_rate=learning_rate).minimize(cost)\n",
        "    \n",
        "    # Initialize all the variables globally\n",
        "    init = tf.global_variables_initializer()\n",
        "     \n",
        "    # Start the session to compute the tensorflow graph\n",
        "    with tf.Session() as sess:\n",
        "        \n",
        "        # Run the initialization\n",
        "        sess.run(init)\n",
        "        \n",
        "        # Do the training loop\n",
        "        for epoch in range(num_epochs):\n",
        "\n",
        "            minibatch_cost = 0.\n",
        "            num_minibatches = int(m / minibatch_size) # number of minibatches of size minibatch_size in the train set\n",
        "            minibatches = random_mini_batches(X_train, Y_train, minibatch_size, seed)\n",
        "\n",
        "            for minibatch in minibatches:\n",
        "\n",
        "                # Select a minibatch\n",
        "                (minibatch_X, minibatch_Y) = minibatch\n",
        "          \n",
        "                ### START CODE HERE ### (1 line)\n",
        "                _ , temp_cost = sess.run([optimizer, cost], feed_dict={X: minibatch_X, Y: minibatch_Y})\n",
        "                ### END CODE HERE ###\n",
        "                \n",
        "                minibatch_cost += temp_cost / num_minibatches\n",
        "                \n",
        "            if print_cost == True and epoch % 5 == 0:\n",
        "                print (\"Cost after epoch %i: %f\" % (epoch, minibatch_cost))\n",
        "            if print_cost == True and epoch % 1 == 0:\n",
        "                costs.append(minibatch_cost)\n",
        "        \n",
        "        \n",
        "        # plot the cost\n",
        "        plt.plot(np.squeeze(costs))\n",
        "        plt.ylabel('cost')\n",
        "        plt.xlabel('iterations (per tens)')\n",
        "        plt.title(\"Learning rate =\" + str(learning_rate))\n",
        "        plt.show()"
      ],
      "execution_count": null,
      "outputs": []
    },
    {
      "cell_type": "markdown",
      "metadata": {
        "id": "NL67s5H89JfO"
      },
      "source": [
        "![download.png](data:image/png;base64,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)"
      ]
    },
    {
      "cell_type": "code",
      "metadata": {
        "id": "keCEPAUD2NzY"
      },
      "source": [
        ""
      ],
      "execution_count": null,
      "outputs": []
    }
  ]
}